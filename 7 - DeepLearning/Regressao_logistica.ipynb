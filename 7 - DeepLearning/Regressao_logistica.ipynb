{
  "nbformat": 4,
  "nbformat_minor": 0,
  "metadata": {
    "colab": {
      "name": "Regressao_logistica.ipynb",
      "provenance": []
    },
    "kernelspec": {
      "name": "python3",
      "display_name": "Python 3"
    }
  },
  "cells": [
    {
      "cell_type": "code",
      "metadata": {
        "id": "s2bpuL3ThYBe"
      },
      "source": [
        "def sigmoid(z):\r\n",
        "    s = 1 / (1 + np.exp(-z)) \r\n",
        "    return s\r\n"
      ],
      "execution_count": null,
      "outputs": []
    },
    {
      "cell_type": "code",
      "metadata": {
        "colab": {
          "base_uri": "https://localhost:8080/"
        },
        "id": "HXV4583zhfqm",
        "outputId": "b7d8562a-7252-4153-dca6-608c97c98605"
      },
      "source": [
        "print(sigmoid(5))\r\n",
        "print(sigmoid(-300))\r\n",
        "print(sigmoid(0.1))"
      ],
      "execution_count": null,
      "outputs": [
        {
          "output_type": "stream",
          "text": [
            "0.9933071490757153\n",
            "5.148200222412014e-131\n",
            "0.52497918747894\n"
          ],
          "name": "stdout"
        }
      ]
    },
    {
      "cell_type": "code",
      "metadata": {
        "id": "w9SW3lach1Wu"
      },
      "source": [
        "def forward(w, b, X, Y):\r\n",
        "    m = X.shape[1] \r\n",
        "    # FORWARD PROPAGATION (FROM X TO COST)\r\n",
        "    # compute activation\r\n",
        "    A = sigmoid(np.dot(w.T,X) + b) \r\n",
        "    # compute cost\r\n",
        "    cost = (-1/m) * np.sum(  (Y *np.log(A)) + ((1-Y) * np.log(1-A)) )\r\n",
        "    return A, cost\r\n"
      ],
      "execution_count": null,
      "outputs": []
    },
    {
      "cell_type": "code",
      "metadata": {
        "id": "hUPwbYstiyx3"
      },
      "source": [
        "def backward(A, X, Y):\r\n",
        "    m = X.shape[1]\r\n",
        "    db = (1/m) * (np.sum(A-Y))\r\n",
        "    dw = (1/m)*(np.dot(X,np.subtract(A,Y).T))\r\n",
        "    grads = {\"dw\": dw,\r\n",
        "             \"db\": db}\r\n",
        "    return grads"
      ],
      "execution_count": null,
      "outputs": []
    },
    {
      "cell_type": "code",
      "metadata": {
        "id": "81FqOx-PjgFe"
      },
      "source": [
        "def optimize(w, b, X, Y, num_iterations, learning_rate):\r\n",
        "    costs = []\r\n",
        "    for i in range(num_iterations):\r\n",
        "        A, cost = forward(w, b, X, Y)\r\n",
        "        grads = backward(A, X, Y)\r\n",
        "        dw = grads[\"dw\"]\r\n",
        "        db = grads[\"db\"]\r\n",
        "        w = w - learning_rate * dw\r\n",
        "        b = b - learning_rate * db\r\n",
        "        if i % 100 == 0:\r\n",
        "            costs.append(cost)\r\n",
        "    params = {\"w\": w, \"b\": b}\r\n",
        "    grads = {\"dw\": dw, \"db\": db}\r\n",
        "    return params, grads, costs"
      ],
      "execution_count": null,
      "outputs": []
    },
    {
      "cell_type": "code",
      "metadata": {
        "id": "yMsRYk_oj_qZ"
      },
      "source": [
        "def predict(w, b, X):\r\n",
        "    m = X.shape[1]\r\n",
        "    Y_prediction = np.zeros((1,m))\r\n",
        "    w = w.reshape(X.shape[0], 1)\r\n",
        "    A = sigmoid(np.dot(w.T,X) + b)\r\n",
        "    for i in range(A.shape[1]):\r\n",
        "        if (A[0,i] <=0.5):\r\n",
        "            Y_prediction[0,i] = 0\r\n",
        "        elif (A[0,i] > 0.5):\r\n",
        "            Y_prediction[0,i] = 1\r\n",
        "        pass\r\n",
        "    return Y_prediction"
      ],
      "execution_count": null,
      "outputs": []
    },
    {
      "cell_type": "code",
      "metadata": {
        "id": "4VGlkWllkVlJ"
      },
      "source": [
        "def model(X_train, Y_train, X_test, Y_test, num_iterations = 2000, learning_rate = 0.5):\r\n",
        "    w = np.zeros((X_train.shape[0], 1))\r\n",
        "    b = 0\r\n",
        "    parameters, grads, costs = optimize(w, b, X_train, Y_train, num_iterations, learning_rate)\r\n",
        "    w = parameters[\"w\"]\r\n",
        "    b = parameters[\"b\"]\r\n",
        "    Y_prediction_test = predict(w, b, X_test)\r\n",
        "    Y_prediction_train = predict(w, b, X_train)\r\n",
        "    print(\"train accuracy: {} %\".format(100 - np.mean(np.abs(Y_prediction_train - Y_train)) * 100))\r\n",
        "    print(\"test accuracy: {} %\".format(100 - np.mean(np.abs(Y_prediction_test - Y_test)) * 100))\r\n",
        "    return costs"
      ],
      "execution_count": null,
      "outputs": []
    },
    {
      "cell_type": "code",
      "metadata": {
        "id": "QxJ4jLTOlQFC"
      },
      "source": [
        "import numpy as np\r\n",
        "import h5py\r\n",
        "def load_dataset():\r\n",
        "    train_dataset = h5py.File('train_catvnoncat.h5', \"r\")\r\n",
        "    train_set_x_orig = np.array(train_dataset[\"train_set_x\"][:]) # your train set features\r\n",
        "    train_set_y_orig = np.array(train_dataset[\"train_set_y\"][:]) # your train set labels\r\n",
        "\r\n",
        "    test_dataset = h5py.File('test_catvnoncat.h5', \"r\")\r\n",
        "    test_set_x_orig = np.array(test_dataset[\"test_set_x\"][:]) # your test set features\r\n",
        "    test_set_y_orig = np.array(test_dataset[\"test_set_y\"][:]) # your test set labels\r\n",
        "\r\n",
        "    classes = np.array(test_dataset[\"list_classes\"][:]) # the list of classes\r\n",
        "    \r\n",
        "    train_set_y_orig = train_set_y_orig.reshape((1, train_set_y_orig.shape[0]))\r\n",
        "    test_set_y_orig = test_set_y_orig.reshape((1, test_set_y_orig.shape[0]))\r\n",
        "    \r\n",
        "    return train_set_x_orig, train_set_y_orig, test_set_x_orig, test_set_y_orig, classes\r\n"
      ],
      "execution_count": null,
      "outputs": []
    },
    {
      "cell_type": "code",
      "metadata": {
        "id": "Gh2UbQmHlV7_"
      },
      "source": [
        "def load_processed_cat_dataset(train_set_x_orig, test_set_x_orig):\r\n",
        "    train_set_x_flatten = train_set_x_orig.reshape(train_set_x_orig.shape[0], -1).T\r\n",
        "    test_set_x_flatten = test_set_x_orig.reshape(test_set_x_orig.shape[0], -1).T\r\n",
        "    train_set_x = train_set_x_flatten/255.\r\n",
        "    test_set_x = test_set_x_flatten/255.\r\n",
        "    return train_set_x, test_set_x\r\n"
      ],
      "execution_count": null,
      "outputs": []
    },
    {
      "cell_type": "code",
      "metadata": {
        "colab": {
          "base_uri": "https://localhost:8080/"
        },
        "id": "9Bomt9CulmvJ",
        "outputId": "7a06ceb0-b491-48a8-ec0e-3c7e41a0669d"
      },
      "source": [
        "train_set_x_orig, train_set_y, test_set_x_orig, test_set_y, classes = load_dataset()\r\n",
        "train_set_x, test_set_x = load_processed_cat_dataset(train_set_x_orig, test_set_x_orig)\r\n",
        "learning_rate = 0.005\r\n",
        "costs = model(train_set_x, train_set_y, test_set_x, test_set_y, num_iterations = 10000, learning_rate = learning_rate)"
      ],
      "execution_count": null,
      "outputs": [
        {
          "output_type": "stream",
          "text": [
            "[0.6931471805599453, 0.5845083636993086, 0.46694904094655476, 0.37600686694802077, 0.3314632893282512, 0.30327306747438293, 0.27987958658260487, 0.26004213692587574, 0.2429406846779662, 0.22800422256726063, 0.21481951378449635, 0.20307819060644985, 0.19254427716706862, 0.18303333796883503, 0.17439859438448874, 0.16652139705400335, 0.15930451829756614, 0.15266732471296504, 0.1465422350398234, 0.1408720757031016, 0.13560807525912016, 0.13070832130477314, 0.12613655733642848, 0.12186123310162926, 0.11785474652704075, 0.11409283226927097, 0.11055406382501505, 0.10721944457861761, 0.10407206923216959, 0.10109684147524375, 0.09828023699678214, 0.09561010335573056, 0.09307549004229355, 0.09066650344102875, 0.08837418246564319, 0.08619039145561946, 0.08410772756609208, 0.08211944038800707, 0.0802193619373876, 0.0784018454741722, 0.07666171187034188, 0.07499420245735221, 0.07339493745449006, 0.07185987922058307, 0.07038529968762713, 0.06896775143115179, 0.0676040419122808, 0.06629121049345109, 0.06502650788600446, 0.06380737773526819, 0.0626314400888294, 0.061496476527728536, 0.060400416769259356, 0.05934132657479691, 0.05831739681725895, 0.05732693358100138, 0.05636834918261738, 0.05544015401463929, 0.05454094912585191, 0.053669419462086115, 0.05282432770019417, 0.05200450861560931, 0.051208863930612684, 0.05043635759631632, 0.049686011466528075, 0.04895690132619619, 0.04824815324111989, 0.047558940199127736, 0.04688847901603077, 0.046236027482405184, 0.045600881729692205, 0.04498237379626367, 0.04437986937602174, 0.043792765733809504, 0.04322048977343342, 0.042662496245457864, 0.042118266083148476, 0.04158730485602792, 0.041069141331484364, 0.04056332613574731, 0.040069430506331674, 0.03958704512875924, 0.039115779051003385, 0.038655258669677055, 0.03820512678250409, 0.03776504170208085, 0.03733467642636102, 0.036913717861679414, 0.03650186609447977, 0.036098833708226384, 0.035704345142267876, 0.035318136089681935, 0.03493995293136726, 0.03456955220386592, 0.034206700098596984, 0.03385117199036181, 0.03350275199314679, 0.033161232541399424, 0.032826413995092056, 0.0324981042670126]\n",
            "train accuracy: 100.0 %\n",
            "test accuracy: 70.0 %\n"
          ],
          "name": "stdout"
        }
      ]
    },
    {
      "cell_type": "code",
      "metadata": {
        "colab": {
          "base_uri": "https://localhost:8080/",
          "height": 295
        },
        "id": "RRpYfkhtmC0o",
        "outputId": "7e9c5af1-0bfc-410e-a574-b9aa4c88569e"
      },
      "source": [
        "import matplotlib.pyplot as plt\r\n",
        "costs = np.squeeze(costs)\r\n",
        "plt.plot(costs)\r\n",
        "plt.ylabel('cost')\r\n",
        "plt.xlabel('iterations (per hundreds)')\r\n",
        "plt.title(\"Learning rate =\" + str(learning_rate))\r\n",
        "plt.show()"
      ],
      "execution_count": null,
      "outputs": [
        {
          "output_type": "display_data",
          "data": {
            "image/png": "[encoded data removed]",
            "text/plain": [
              "<Figure size 432x288 with 1 Axes>"
            ]
          },
          "metadata": {
            "tags": [],
            "needs_background": "light"
          }
        }
      ]
    }
  ]
}